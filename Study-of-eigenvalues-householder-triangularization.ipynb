{
 "cells": [
  {
   "cell_type": "code",
   "execution_count": 1,
   "id": "da566969",
   "metadata": {
    "id": "da566969"
   },
   "outputs": [],
   "source": [
    "import numpy as np\n",
    "import matplotlib.pyplot as plt\n"
   ]
  },
  {
   "cell_type": "code",
   "execution_count": 2,
   "id": "3a38ec77",
   "metadata": {
    "id": "3a38ec77"
   },
   "outputs": [],
   "source": [
    "#GRAM-SCHMIDT\n",
    "def metodo_QR(A):\n",
    "    A_0 = np.copy(A)\n",
    "    a,b = np.shape(A)\n",
    "    for i in range(10000):\n",
    "        Q,R = np.linalg.qr(A_0)\n",
    "        A_0 = np.dot(R,Q)\n",
    "        if A[a-1][b-2] == 0:\n",
    "          break\n",
    "    return A_0"
   ]
  },
  {
   "cell_type": "code",
   "execution_count": 148,
   "id": "7f793aaa",
   "metadata": {
    "id": "7f793aaa"
   },
   "outputs": [],
   "source": [
    "\n",
    "def householder(A,m,n):\n",
    "\n",
    "  #Operando somente na sub matriz que F age\n",
    "  for k in range(n):\n",
    "    x = A[k:,k]\n",
    "    x_t = []\n",
    "    x_t.append(x)\n",
    "    e = np.zeros(len(x))\n",
    "    e[0] = 1.\n",
    "    e1 = []\n",
    "    e1.append(e)\n",
    "    v = np.sign(x[0])*np.linalg.norm(np.transpose(x_t))*np.transpose(e1) + np.transpose(x_t)\n",
    "    A[k:,k:] = A[k:,k:] - 2.0*(np.dot(v,np.dot(np.transpose(v),A[k:,k:])))/np.dot(np.transpose(v),v)\n",
    "\n",
    "def hilbertMatrix(ord):\n",
    "\n",
    "  H = np.zeros((ord,ord))\n",
    "\n",
    "  for i in range(ord):\n",
    "    for j in range(ord):\n",
    "      \n",
    "      H[i][j] = 1./(i+1 + j)\n",
    "\n",
    "\n",
    "  return H    \n",
    "\n",
    "    \n",
    " "
   ]
  },
  {
   "cell_type": "code",
   "execution_count": 149,
   "id": "a5ec7b0e",
   "metadata": {
    "colab": {
     "base_uri": "https://localhost:8080/",
     "height": 1000
    },
    "id": "a5ec7b0e",
    "outputId": "95fd0e91-cb52-484e-a5da-a927c4653600"
   },
   "outputs": [
    {
     "name": "stdout",
     "output_type": "stream",
     "text": [
      "Hilbert\n",
      "[[1.         0.5        0.33333333 0.25       0.2        0.16666667\n",
      "  0.14285714 0.125      0.11111111 0.1       ]\n",
      " [0.5        0.33333333 0.25       0.2        0.16666667 0.14285714\n",
      "  0.125      0.11111111 0.1        0.09090909]\n",
      " [0.33333333 0.25       0.2        0.16666667 0.14285714 0.125\n",
      "  0.11111111 0.1        0.09090909 0.08333333]\n",
      " [0.25       0.2        0.16666667 0.14285714 0.125      0.11111111\n",
      "  0.1        0.09090909 0.08333333 0.07692308]\n",
      " [0.2        0.16666667 0.14285714 0.125      0.11111111 0.1\n",
      "  0.09090909 0.08333333 0.07692308 0.07142857]\n",
      " [0.16666667 0.14285714 0.125      0.11111111 0.1        0.09090909\n",
      "  0.08333333 0.07692308 0.07142857 0.06666667]\n",
      " [0.14285714 0.125      0.11111111 0.1        0.09090909 0.08333333\n",
      "  0.07692308 0.07142857 0.06666667 0.0625    ]\n",
      " [0.125      0.11111111 0.1        0.09090909 0.08333333 0.07692308\n",
      "  0.07142857 0.06666667 0.0625     0.05882353]\n",
      " [0.11111111 0.1        0.09090909 0.08333333 0.07692308 0.07142857\n",
      "  0.06666667 0.0625     0.05882353 0.05555556]\n",
      " [0.1        0.09090909 0.08333333 0.07692308 0.07142857 0.06666667\n",
      "  0.0625     0.05882353 0.05555556 0.05263158]]\n",
      "==============================================================================================\n",
      "\n",
      "==============================================================================================\n",
      "================OUTO VALORES USANDO TRIANGULARIZAÇÃO QR VIA HOUSEHOLDER======================\n",
      "=============================Metodo incorreto==================================================\n",
      "\n",
      "Hilbert triangular superior\n",
      "[[-1.24489667e+00 -7.30254107e-01 -5.32476953e-01 -4.23641004e-01\n",
      "  -3.53591446e-01 -3.04293944e-01 -2.67524111e-01 -2.38949593e-01\n",
      "  -2.16053806e-01 -1.97267318e-01]\n",
      " [-1.11022302e-16 -1.57356709e-01 -1.76816009e-01 -1.72683318e-01\n",
      "  -1.63140032e-01 -1.52732727e-01 -1.42790794e-01 -1.33686109e-01\n",
      "  -1.25472117e-01 -1.18094576e-01]\n",
      " [-5.55111512e-17  2.77555756e-17  1.34548169e-02  2.21489714e-02\n",
      "   2.71856162e-02  2.99696616e-02  3.13864772e-02  3.19635984e-02\n",
      "   3.20187091e-02  3.17474364e-02]\n",
      " [-5.55111512e-17  2.77555756e-17  0.00000000e+00  9.38887391e-04\n",
      "   2.02151906e-03  2.98002790e-03  3.75636504e-03  4.35983575e-03\n",
      "   4.81743670e-03  5.15740910e-03]\n",
      " [-2.77555756e-17  2.77555756e-17  0.00000000e+00  0.00000000e+00\n",
      "   5.49241487e-05  1.45408158e-04  2.49602676e-04  3.53809029e-04\n",
      "   4.50912413e-04  5.37823771e-04]\n",
      " [-2.77555756e-17  2.08166817e-17  0.00000000e+00  0.00000000e+00\n",
      "  -1.69406589e-21  2.69847246e-06  8.45071749e-06  1.65221132e-05\n",
      "   2.59892545e-05  3.60731786e-05]\n",
      " [ 0.00000000e+00  2.08166817e-17  0.00000000e+00  0.00000000e+00\n",
      "   2.11758237e-22  2.11758237e-22  1.10189793e-07  3.97533366e-07\n",
      "   8.70740511e-07  1.50381712e-06]\n",
      " [-2.77555756e-17  2.08166817e-17  0.00000000e+00  0.00000000e+00\n",
      "   3.38813179e-21  4.23516474e-22  0.00000000e+00  3.64773125e-09\n",
      "   1.48720172e-08  3.60320224e-08]\n",
      " [-1.38777878e-17  2.08166817e-17  0.00000000e+00  0.00000000e+00\n",
      "   6.77626358e-21  1.05879118e-22  0.00000000e+00 -4.13590306e-25\n",
      "   9.28430887e-11  4.21586684e-10]\n",
      " [-1.38777878e-17  1.38777878e-17 -8.67361738e-19  0.00000000e+00\n",
      "   6.77626358e-21 -1.05879118e-22  0.00000000e+00  5.16987883e-26\n",
      "   0.00000000e+00  1.58129375e-12]]\n",
      "=================================OUTO VALORES =================================================\n",
      "u_ 0 = -1.2448966748957688\n",
      "u_ 1 = -0.15735670885728595\n",
      "u_ 2 = 0.013454816944182588\n",
      "u_ 3 = 0.0009388873913644682\n",
      "u_ 4 = 5.4924148744656354e-05\n",
      "u_ 5 = 2.698472459027948e-06\n",
      "u_ 6 = 1.1018979272003764e-07\n",
      "u_ 7 = 3.6477312542884444e-09\n",
      "u_ 8 = 9.284308874525097e-11\n",
      "u_ 9 = 1.5812937526886546e-12\n"
     ]
    },
    {
     "data": {
      "text/plain": [
       "<matplotlib.image.AxesImage at 0x7fceb1b81580>"
      ]
     },
     "execution_count": 149,
     "metadata": {},
     "output_type": "execute_result"
    },
    {
     "data": {
      "image/png": "[encoded data removed]",
      "text/plain": [
       "<Figure size 432x288 with 1 Axes>"
      ]
     },
     "metadata": {
      "needs_background": "light"
     },
     "output_type": "display_data"
    }
   ],
   "source": [
    "#Metodo incorreto para produzir os outovalores, mas o mantive para efeito de comparação\n",
    "# caso usássemos só a triangularização de Householder\n",
    "\n",
    "H = hilbertMatrix(10)\n",
    "print(\"Hilbert\")\n",
    "print(H)\n",
    "print(\"==============================================================================================\")\n",
    "print()\n",
    "\n",
    "print(\"==============================================================================================\")\n",
    "print(\"================OUTO VALORES USANDO TRIANGULARIZAÇÃO QR VIA HOUSEHOLDER======================\")\n",
    "print(\"=============================Metodo incorreto==================================================\")\n",
    "print()\n",
    "householder(H,10 ,10)\n",
    "print(\"Hilbert triangular superior\")\n",
    "print(H)\n",
    "print(\"=================================OUTO VALORES =================================================\")\n",
    "U_qrh = []\n",
    "for i in range(10):\n",
    "  print(\"u_\",i,\"=\",H[i][i])\n",
    "  U_qrh.append(H[i][i])\n",
    "\n",
    "plt.spy(H, precision=1e-16)"
   ]
  },
  {
   "cell_type": "code",
   "execution_count": 150,
   "id": "vaZ-VquMNUYB",
   "metadata": {
    "colab": {
     "base_uri": "https://localhost:8080/",
     "height": 1000
    },
    "id": "vaZ-VquMNUYB",
    "outputId": "b24af542-da7f-4e99-d096-efcc7a4d88c0"
   },
   "outputs": [
    {
     "name": "stdout",
     "output_type": "stream",
     "text": [
      "Hilbert\n",
      "[[1.         0.5        0.33333333 0.25       0.2        0.16666667\n",
      "  0.14285714 0.125      0.11111111 0.1       ]\n",
      " [0.5        0.33333333 0.25       0.2        0.16666667 0.14285714\n",
      "  0.125      0.11111111 0.1        0.09090909]\n",
      " [0.33333333 0.25       0.2        0.16666667 0.14285714 0.125\n",
      "  0.11111111 0.1        0.09090909 0.08333333]\n",
      " [0.25       0.2        0.16666667 0.14285714 0.125      0.11111111\n",
      "  0.1        0.09090909 0.08333333 0.07692308]\n",
      " [0.2        0.16666667 0.14285714 0.125      0.11111111 0.1\n",
      "  0.09090909 0.08333333 0.07692308 0.07142857]\n",
      " [0.16666667 0.14285714 0.125      0.11111111 0.1        0.09090909\n",
      "  0.08333333 0.07692308 0.07142857 0.06666667]\n",
      " [0.14285714 0.125      0.11111111 0.1        0.09090909 0.08333333\n",
      "  0.07692308 0.07142857 0.06666667 0.0625    ]\n",
      " [0.125      0.11111111 0.1        0.09090909 0.08333333 0.07692308\n",
      "  0.07142857 0.06666667 0.0625     0.05882353]\n",
      " [0.11111111 0.1        0.09090909 0.08333333 0.07692308 0.07142857\n",
      "  0.06666667 0.0625     0.05882353 0.05555556]\n",
      " [0.1        0.09090909 0.08333333 0.07692308 0.07142857 0.06666667\n",
      "  0.0625     0.05882353 0.05555556 0.05263158]]\n",
      "==============================================================================================\n",
      "\n",
      "==============================================================================================\n",
      "================OUTO VALORES USANDO TRIANGULARIZAÇÃO QR VIA GRAM-SCHMIDT======================\n",
      "==============================================================================================\n",
      "\n",
      "Hilbert triangular superior\n",
      "[[ 1.75191967e+00 -1.74518431e-16  1.78342350e-16 -9.63166310e-17\n",
      "   6.60029565e-17  4.14232424e-17  5.61897575e-18 -1.94136773e-17\n",
      "   4.20107335e-17 -2.46960974e-17]\n",
      " [ 0.00000000e+00  3.42929548e-01 -3.49216079e-17  3.79570367e-17\n",
      "  -2.15421583e-17 -2.08204320e-17  7.42063849e-18  8.44889699e-18\n",
      "  -1.06872876e-17 -2.89503759e-17]\n",
      " [ 0.00000000e+00  0.00000000e+00  3.57418163e-02 -6.22345868e-18\n",
      "   3.13278626e-17  1.04193820e-17  7.71257390e-18 -6.58182362e-18\n",
      "   2.22443933e-17  1.28641729e-17]\n",
      " [ 0.00000000e+00  0.00000000e+00  0.00000000e+00  2.53089077e-03\n",
      "  -1.68910376e-17  5.96683099e-18  5.90625358e-18  1.10431607e-17\n",
      "  -6.82131166e-18 -8.24668414e-18]\n",
      " [ 0.00000000e+00  0.00000000e+00  0.00000000e+00  0.00000000e+00\n",
      "   1.28749614e-04  1.04733023e-17 -1.62268291e-18 -3.65762480e-18\n",
      "  -3.86710897e-18 -9.72333197e-19]\n",
      " [ 0.00000000e+00  0.00000000e+00  0.00000000e+00  0.00000000e+00\n",
      "   0.00000000e+00  4.72968929e-06  9.62787051e-18 -7.46660089e-18\n",
      "  -9.36912758e-18  4.56913236e-18]\n",
      " [ 0.00000000e+00  0.00000000e+00  0.00000000e+00  0.00000000e+00\n",
      "   0.00000000e+00  0.00000000e+00  1.22896774e-07  2.40154027e-19\n",
      "   2.13504592e-18 -1.70980873e-18]\n",
      " [ 0.00000000e+00  0.00000000e+00  0.00000000e+00  0.00000000e+00\n",
      "   0.00000000e+00  0.00000000e+00  0.00000000e+00  2.14743882e-09\n",
      "  -4.63503895e-18 -1.32839730e-18]\n",
      " [ 0.00000000e+00  0.00000000e+00  0.00000000e+00  0.00000000e+00\n",
      "   0.00000000e+00  0.00000000e+00  0.00000000e+00  0.00000000e+00\n",
      "   2.26674523e-11 -3.79560459e-18]\n",
      " [ 0.00000000e+00  0.00000000e+00  0.00000000e+00  0.00000000e+00\n",
      "   0.00000000e+00  0.00000000e+00  0.00000000e+00  0.00000000e+00\n",
      "   0.00000000e+00  1.09323639e-13]]\n",
      "=================================OUTO VALORES =================================================\n",
      "u_ 0 = 1.0\n",
      "u_ 1 = 0.3333333333333333\n",
      "u_ 2 = 0.2\n",
      "u_ 3 = 0.14285714285714285\n",
      "u_ 4 = 0.1111111111111111\n",
      "u_ 5 = 0.09090909090909091\n",
      "u_ 6 = 0.07692307692307693\n",
      "u_ 7 = 0.06666666666666667\n",
      "u_ 8 = 0.058823529411764705\n",
      "u_ 9 = 0.05263157894736842\n"
     ]
    },
    {
     "data": {
      "text/plain": [
       "<matplotlib.image.AxesImage at 0x7fceb1b52160>"
      ]
     },
     "execution_count": 150,
     "metadata": {},
     "output_type": "execute_result"
    },
    {
     "data": {
      "image/png": "[encoded data removed]",
      "text/plain": [
       "<Figure size 432x288 with 1 Axes>"
      ]
     },
     "metadata": {
      "needs_background": "light"
     },
     "output_type": "display_data"
    }
   ],
   "source": [
    "H = hilbertMatrix(10)\n",
    "print(\"Hilbert\")\n",
    "print(H)\n",
    "print(\"==============================================================================================\")\n",
    "print()\n",
    "\n",
    "print(\"==============================================================================================\")\n",
    "print(\"================OUTO VALORES USANDO TRIANGULARIZAÇÃO QR VIA GRAM-SCHMIDT======================\")\n",
    "print(\"==============================================================================================\")\n",
    "print()\n",
    "H_02 = metodo_QR(H)\n",
    "print(\"Hilbert triangular superior\")\n",
    "print(H_02)\n",
    "print(\"=================================OUTO VALORES =================================================\")\n",
    "U_qr = []\n",
    "for i in range(10):\n",
    "  print(\"u_\",i,\"=\",H[i][i])\n",
    "  U_qr.append(H[i][i])\n",
    "plt.spy(H_02, precision=1e-16)"
   ]
  },
  {
   "cell_type": "code",
   "execution_count": 151,
   "id": "6extTObx-mmF",
   "metadata": {
    "colab": {
     "base_uri": "https://localhost:8080/"
    },
    "id": "6extTObx-mmF",
    "outputId": "91de258e-408a-4805-f094-96011347a869"
   },
   "outputs": [
    {
     "name": "stdout",
     "output_type": "stream",
     "text": [
      "Hilbert\n",
      "[[1.         0.5        0.33333333 0.25       0.2        0.16666667\n",
      "  0.14285714 0.125      0.11111111 0.1       ]\n",
      " [0.5        0.33333333 0.25       0.2        0.16666667 0.14285714\n",
      "  0.125      0.11111111 0.1        0.09090909]\n",
      " [0.33333333 0.25       0.2        0.16666667 0.14285714 0.125\n",
      "  0.11111111 0.1        0.09090909 0.08333333]\n",
      " [0.25       0.2        0.16666667 0.14285714 0.125      0.11111111\n",
      "  0.1        0.09090909 0.08333333 0.07692308]\n",
      " [0.2        0.16666667 0.14285714 0.125      0.11111111 0.1\n",
      "  0.09090909 0.08333333 0.07692308 0.07142857]\n",
      " [0.16666667 0.14285714 0.125      0.11111111 0.1        0.09090909\n",
      "  0.08333333 0.07692308 0.07142857 0.06666667]\n",
      " [0.14285714 0.125      0.11111111 0.1        0.09090909 0.08333333\n",
      "  0.07692308 0.07142857 0.06666667 0.0625    ]\n",
      " [0.125      0.11111111 0.1        0.09090909 0.08333333 0.07692308\n",
      "  0.07142857 0.06666667 0.0625     0.05882353]\n",
      " [0.11111111 0.1        0.09090909 0.08333333 0.07692308 0.07142857\n",
      "  0.06666667 0.0625     0.05882353 0.05555556]\n",
      " [0.1        0.09090909 0.08333333 0.07692308 0.07142857 0.06666667\n",
      "  0.0625     0.05882353 0.05555556 0.05263158]]\n",
      "==============================================================================================\n",
      "\n",
      "==============================================================================================\n",
      "================OUTO VALORES USANDO LINALG.EIGVALS============================================\n",
      "==============================================================================================\n",
      "\n",
      "=================================OUTO VALORES =================================================\n",
      "u_ 0 = 1.7519196702651776\n",
      "u_ 1 = 0.3429295484835088\n",
      "u_ 2 = 0.035741816271639235\n",
      "u_ 3 = 0.002530890768669993\n",
      "u_ 4 = 0.00012874961427635637\n",
      "u_ 5 = 4.729689293192675e-06\n",
      "u_ 6 = 1.2289677387909377e-07\n",
      "u_ 7 = 2.1474388272285985e-09\n",
      "u_ 8 = 2.2667453487945673e-11\n",
      "u_ 9 = 1.0932510094959673e-13\n"
     ]
    }
   ],
   "source": [
    "H = hilbertMatrix(10)\n",
    "print(\"Hilbert\")\n",
    "print(H)\n",
    "print(\"==============================================================================================\")\n",
    "print()\n",
    "\n",
    "print(\"==============================================================================================\")\n",
    "print(\"================OUTO VALORES USANDO LINALG.EIGVALS============================================\")\n",
    "print(\"==============================================================================================\")\n",
    "print()\n",
    "print(\"=================================OUTO VALORES =================================================\")\n",
    "\n",
    "U_linalg = np.linalg.eigvals(H)\n",
    "for i in range(len(U_linalg)):\n",
    "  print(\"u_\",i,\"=\",U_linalg[i])\n"
   ]
  },
  {
   "cell_type": "code",
   "execution_count": 157,
   "id": "2508eed8",
   "metadata": {
    "colab": {
     "base_uri": "https://localhost:8080/",
     "height": 596
    },
    "id": "2508eed8",
    "outputId": "7120fc50-529b-4781-fc59-d4be178a46da"
   },
   "outputs": [
    {
     "name": "stdout",
     "output_type": "stream",
     "text": [
      "==============================================================================================\n",
      "=======ERRO DOS OUTO VALORES LINALG.EIGVALS X TRIANGULARIZAÇÃO QR VIA HOUSEHOLDER============\n",
      "==============================================================================================\n"
     ]
    },
    {
     "data": {
      "image/png": "[encoded data removed]",
      "text/plain": [
       "<Figure size 432x288 with 1 Axes>"
      ]
     },
     "metadata": {
      "needs_background": "light"
     },
     "output_type": "display_data"
    },
    {
     "data": {
      "image/png": "[encoded data removed]",
      "text/plain": [
       "<Figure size 432x288 with 1 Axes>"
      ]
     },
     "metadata": {
      "needs_background": "light"
     },
     "output_type": "display_data"
    }
   ],
   "source": [
    "print(\"==============================================================================================\")\n",
    "print(\"=======ERRO DOS OUTO VALORES LINALG.EIGVALS X TRIANGULARIZAÇÃO QR VIA HOUSEHOLDER============\")\n",
    "print(\"==============================================================================================\")\n",
    "\n",
    "\n",
    "X = np.sort(U_linalg)\n",
    "Y = np.sort(U_qrh)\n",
    "ERRO1 = []\n",
    "label = []\n",
    "for i in range(len(X)):\n",
    "  ERRO1.append(abs(X[i]-Y[i]))\n",
    "\n",
    "\n",
    "plt.plot(X,ERRO1)\n",
    "\n",
    "plt.xlabel('LINALG.EIGVALS u_i')\n",
    "plt.ylabel('ERRO ABSOLUTO HOUSEHOLDER')\n",
    "\n",
    "plt.show()\n",
    "\n",
    "plt.plot(Y,X)\n",
    "plt.xlabel('SOLUÇÃO')\n",
    "plt.ylabel('SOLUÇAO EXATA')\n",
    "plt.show()\n"
   ]
  },
  {
   "cell_type": "code",
   "execution_count": 158,
   "id": "NqbifX0dlvOQ",
   "metadata": {
    "colab": {
     "base_uri": "https://localhost:8080/",
     "height": 596
    },
    "id": "NqbifX0dlvOQ",
    "outputId": "b472ecf8-bea8-41cf-84fb-f8be469361a6"
   },
   "outputs": [
    {
     "name": "stdout",
     "output_type": "stream",
     "text": [
      "==============================================================================================\n",
      "=======ERRO DOS OUTO VALORES LINALG.EIGVALS X TRIANGULARIZAÇÃO QR VIA GRAM-SCHMIDT============\n",
      "==============================================================================================\n"
     ]
    },
    {
     "data": {
      "image/png": "[encoded data removed]",
      "text/plain": [
       "<Figure size 432x288 with 1 Axes>"
      ]
     },
     "metadata": {
      "needs_background": "light"
     },
     "output_type": "display_data"
    },
    {
     "data": {
      "image/png": "[encoded data removed]",
      "text/plain": [
       "<Figure size 432x288 with 1 Axes>"
      ]
     },
     "metadata": {
      "needs_background": "light"
     },
     "output_type": "display_data"
    }
   ],
   "source": [
    "print(\"==============================================================================================\")\n",
    "print(\"=======ERRO DOS OUTO VALORES LINALG.EIGVALS X TRIANGULARIZAÇÃO QR VIA GRAM-SCHMIDT============\")\n",
    "print(\"==============================================================================================\")\n",
    "\n",
    "\n",
    "X = np.sort(U_linalg)\n",
    "Y = np.sort(U_qr)\n",
    "ERRO2 = []\n",
    "label = []\n",
    "for i in range(len(X)):\n",
    "  ERRO2.append(abs(X[i]-Y[i]))\n",
    " \n",
    "\n",
    "plt.plot(X,ERRO2)\n",
    "\n",
    "plt.xlabel('LINALG.EIGVALS u_i')\n",
    "plt.ylabel('ERRO ABSOLUTO GRAM-SCHMIDT')\n",
    "\n",
    "plt.show()\n",
    "\n",
    "plt.plot(Y,X)\n",
    "plt.xlabel('SOLUÇÃO')\n",
    "plt.ylabel('SOLUÇAO EXATA')\n",
    "plt.show()\n"
   ]
  },
  {
   "cell_type": "code",
   "execution_count": 159,
   "id": "QI6t2hc6KY10",
   "metadata": {
    "id": "QI6t2hc6KY10"
   },
   "outputs": [],
   "source": [
    "# Chegando a uma falsa matriz de Hessenberg triangularizando \n",
    "#usando somente a triagularização de Househouder adaptada para zerar abaixo da segunda diagonal\n",
    "\n",
    "def False_hessenberg(A,m,n):\n",
    "\n",
    "  for k in range(n-1):\n",
    "    x = A[k+1:,k]\n",
    "    x_t = []\n",
    "    x_t.append(x)\n",
    "    e = np.zeros(len(x))\n",
    "    e[0] = 1.\n",
    "    e1 = []\n",
    "    e1.append(e)\n",
    "    v = np.sign(x[0])*np.linalg.norm(np.transpose(x_t))*np.transpose(e1) + np.transpose(x_t)\n",
    "    A[k+1:,k:] = A[k+1:,k:] - 2.0*(np.dot(v,np.dot(np.transpose(v),A[k+1:,k:])))/np.dot(np.transpose(v),v)"
   ]
  },
  {
   "cell_type": "code",
   "execution_count": 160,
   "id": "bROErME0Lz2c",
   "metadata": {
    "colab": {
     "base_uri": "https://localhost:8080/",
     "height": 1000
    },
    "id": "bROErME0Lz2c",
    "outputId": "58e44f1c-ae64-4d05-c792-5e3367023532"
   },
   "outputs": [
    {
     "name": "stdout",
     "output_type": "stream",
     "text": [
      "Hilbert\n",
      "[[1.         0.5        0.33333333 0.25       0.2        0.16666667\n",
      "  0.14285714 0.125      0.11111111 0.1       ]\n",
      " [0.5        0.33333333 0.25       0.2        0.16666667 0.14285714\n",
      "  0.125      0.11111111 0.1        0.09090909]\n",
      " [0.33333333 0.25       0.2        0.16666667 0.14285714 0.125\n",
      "  0.11111111 0.1        0.09090909 0.08333333]\n",
      " [0.25       0.2        0.16666667 0.14285714 0.125      0.11111111\n",
      "  0.1        0.09090909 0.08333333 0.07692308]\n",
      " [0.2        0.16666667 0.14285714 0.125      0.11111111 0.1\n",
      "  0.09090909 0.08333333 0.07692308 0.07142857]\n",
      " [0.16666667 0.14285714 0.125      0.11111111 0.1        0.09090909\n",
      "  0.08333333 0.07692308 0.07142857 0.06666667]\n",
      " [0.14285714 0.125      0.11111111 0.1        0.09090909 0.08333333\n",
      "  0.07692308 0.07142857 0.06666667 0.0625    ]\n",
      " [0.125      0.11111111 0.1        0.09090909 0.08333333 0.07692308\n",
      "  0.07142857 0.06666667 0.0625     0.05882353]\n",
      " [0.11111111 0.1        0.09090909 0.08333333 0.07692308 0.07142857\n",
      "  0.06666667 0.0625     0.05882353 0.05555556]\n",
      " [0.1        0.09090909 0.08333333 0.07692308 0.07142857 0.06666667\n",
      "  0.0625     0.05882353 0.05555556 0.05263158]]\n",
      "==============================================================================================\n",
      "========================== MATRIZ DE  HESSENBERG =============================================\n",
      "==============================================================================================\n",
      "\n",
      "[[ 1.00000000e+00  5.00000000e-01  3.33333333e-01  2.50000000e-01\n",
      "   2.00000000e-01  1.66666667e-01  1.42857143e-01  1.25000000e-01\n",
      "   1.11111111e-01  1.00000000e-01]\n",
      " [-7.41463237e-01 -5.51734582e-01 -4.44452858e-01 -3.74110628e-01\n",
      "  -3.23933546e-01 -2.86120527e-01 -2.56496512e-01 -2.32604322e-01\n",
      "  -2.12894647e-01 -1.96338026e-01]\n",
      " [ 5.55111512e-17 -6.01759479e-02 -7.94335321e-02 -8.52282418e-02\n",
      "  -8.57060765e-02 -8.39122362e-02 -8.11470893e-02 -7.80125487e-02\n",
      "  -7.48000521e-02 -7.16526181e-02]\n",
      " [ 5.55111512e-17  3.46944695e-18  4.18310439e-03  7.74659268e-03\n",
      "   1.02912334e-02  1.20132173e-02  1.31399809e-02  1.38473797e-02\n",
      "   1.42606162e-02  1.44671073e-02]\n",
      " [ 5.55111512e-17  3.46944695e-18  1.35525272e-20  2.48731771e-04\n",
      "   5.87115965e-04  9.25425443e-04  1.22769431e-03  1.48368624e-03\n",
      "   1.69407192e-03  1.86359918e-03]\n",
      " [ 2.77555756e-17  6.93889390e-18  1.08420217e-19  2.71050543e-20\n",
      "   1.25019926e-05  3.56760165e-05  6.48675422e-05  9.62443038e-05\n",
      "   1.27303195e-04  1.56601864e-04]\n",
      " [ 2.77555756e-17  3.46944695e-18  2.16840434e-19  1.35525272e-20\n",
      "   0.00000000e+00  5.23093784e-07  1.74484557e-06  3.58711599e-06\n",
      "   5.87872426e-06  8.44313477e-06]\n",
      " [ 2.77555756e-17  3.46944695e-18  2.16840434e-19  1.35525272e-20\n",
      "   0.00000000e+00  0.00000000e+00  1.77372707e-08  6.75621989e-08\n",
      "   1.54711617e-07  2.77293110e-07]\n",
      " [ 1.38777878e-17  3.46944695e-18  4.33680869e-19  8.47032947e-22\n",
      "   8.47032947e-22  0.00000000e+00 -8.27180613e-25  4.61905065e-10\n",
      "   1.97496440e-09  4.97915172e-09]\n",
      " [ 2.77555756e-17  3.46944695e-18  4.33680869e-19  0.00000000e+00\n",
      "  -1.69406589e-21  0.00000000e+00  3.30872245e-24  0.00000000e+00\n",
      "  -8.03737841e-12 -3.80719578e-11]]\n",
      "==============================================================================================\n",
      "================OUTO VALORES USANDO TRIANGULARIZAÇÃO QR VIA GRAM-SCHMIDT======================\n",
      "==============================================================================================\n",
      "[[ 7.14419759e-001 -1.33499989e+000 -1.49309497e-001  4.58012518e-001\n",
      "  -2.83342123e-001 -2.71948306e-001 -2.34664998e-001  2.11634109e-001\n",
      "  -1.59994336e-001  1.97843959e-001]\n",
      " [ 4.94065646e-324 -3.34165442e-001  4.76823156e-002  2.83629543e-001\n",
      "  -1.67317796e-001 -1.79587276e-001 -1.60975846e-001  1.51003515e-001\n",
      "  -1.17148055e-001  1.48476953e-001]\n",
      " [ 0.00000000e+000  0.00000000e+000 -5.66533782e-003 -2.71493073e-002\n",
      "   2.36390687e-002  2.77211833e-002  2.83663244e-002 -2.88602653e-002\n",
      "   2.37233031e-002 -3.17053893e-002]\n",
      " [ 0.00000000e+000  0.00000000e+000  0.00000000e+000  2.54330932e-003\n",
      "  -3.35016729e-003 -4.35017037e-003 -5.03465229e-003  5.55794786e-003\n",
      "  -4.83168071e-003  6.81097617e-003]\n",
      " [ 0.00000000e+000  0.00000000e+000  0.00000000e+000  0.00000000e+000\n",
      "   6.78665319e-005  1.53234884e-004  2.47656529e-004 -3.38790113e-004\n",
      "   3.35456310e-004 -5.34094662e-004]\n",
      " [ 0.00000000e+000  0.00000000e+000  0.00000000e+000  0.00000000e+000\n",
      "   0.00000000e+000  2.81728954e-006  8.02745382e-006 -1.49859649e-005\n",
      "   1.75522724e-005 -3.27963162e-005]\n",
      " [ 0.00000000e+000  0.00000000e+000  0.00000000e+000  0.00000000e+000\n",
      "   0.00000000e+000  0.00000000e+000  1.09053066e-007 -3.64252675e-007\n",
      "   5.48824272e-007 -1.30545540e-006]\n",
      " [ 0.00000000e+000  0.00000000e+000  0.00000000e+000  0.00000000e+000\n",
      "   0.00000000e+000  0.00000000e+000  0.00000000e+000  3.44634073e-009\n",
      "  -8.20120281e-009  2.98001342e-008]\n",
      " [ 0.00000000e+000  0.00000000e+000  0.00000000e+000  0.00000000e+000\n",
      "   0.00000000e+000  0.00000000e+000  0.00000000e+000  0.00000000e+000\n",
      "   2.88869210e-011 -3.25538038e-010]\n",
      " [ 0.00000000e+000  0.00000000e+000  0.00000000e+000  0.00000000e+000\n",
      "   0.00000000e+000  0.00000000e+000  0.00000000e+000  0.00000000e+000\n",
      "   0.00000000e+000 -3.03116457e-012]]\n",
      "\n",
      "=================================OUTO VALORES =================================================\n",
      "u_ 0 = 0.7144197590062525\n",
      "u_ 1 = -0.33416544218363387\n",
      "u_ 2 = -0.0056653378170686206\n",
      "u_ 3 = 0.0025433093214489748\n",
      "u_ 4 = 6.786653187569348e-05\n",
      "u_ 5 = 2.817289535980024e-06\n",
      "u_ 6 = 1.0905306583693621e-07\n",
      "u_ 7 = 3.446340727152188e-09\n",
      "u_ 8 = 2.8886920960737206e-11\n",
      "u_ 9 = -3.0311645694761755e-12\n"
     ]
    },
    {
     "data": {
      "text/plain": [
       "<matplotlib.image.AxesImage at 0x7fceb170edf0>"
      ]
     },
     "execution_count": 160,
     "metadata": {},
     "output_type": "execute_result"
    },
    {
     "data": {
      "image/png": "[encoded data removed]",
      "text/plain": [
       "<Figure size 432x288 with 1 Axes>"
      ]
     },
     "metadata": {
      "needs_background": "light"
     },
     "output_type": "display_data"
    }
   ],
   "source": [
    "H = hilbertMatrix(10)\n",
    "print(\"Hilbert\")\n",
    "print(H)\n",
    "\n",
    "print(\"==============================================================================================\")\n",
    "print(\"========================== MATRIZ DE  HESSENBERG =============================================\")\n",
    "print(\"==============================================================================================\")\n",
    "print()\n",
    "False_hessenberg(H,10,10)\n",
    "print(H)\n",
    "print(\"==============================================================================================\")\n",
    "print(\"================OUTO VALORES USANDO TRIANGULARIZAÇÃO QR VIA GRAM-SCHMIDT======================\")\n",
    "print(\"==============================================================================================\")\n",
    "\n",
    "H_02 = metodo_QR(H)\n",
    "print(H_02)\n",
    "\n",
    "print()\n",
    "print(\"=================================OUTO VALORES =================================================\")\n",
    "\n",
    "\n",
    "U_qrH = []\n",
    "for i in range(10):\n",
    "  print(\"u_\",i,\"=\",H_02[i][i])\n",
    "  U_qrH.append(H_02[i][i])\n",
    "\n",
    "plt.spy(H_02, precision=1e-16)"
   ]
  },
  {
   "cell_type": "code",
   "execution_count": 162,
   "id": "zCtwyjJyTHwl",
   "metadata": {
    "colab": {
     "base_uri": "https://localhost:8080/",
     "height": 652
    },
    "id": "zCtwyjJyTHwl",
    "outputId": "5bf5cf8c-559a-4e75-bcaf-125f0a62a498"
   },
   "outputs": [
    {
     "name": "stdout",
     "output_type": "stream",
     "text": [
      "==============================================================================================\n",
      "ERRO DOS OUTO VALORES LINALG.EIGVALS X TRIANGULARIZAÇÃO QR VIA GRAM-SCHMIDT E MATRIZ DE HESSENBERG\n",
      "==============================================================================================\n"
     ]
    },
    {
     "data": {
      "image/png": "[encoded data removed]",
      "text/plain": [
       "<Figure size 432x288 with 1 Axes>"
      ]
     },
     "metadata": {
      "needs_background": "light"
     },
     "output_type": "display_data"
    },
    {
     "data": {
      "image/png": "[encoded data removed]",
      "text/plain": [
       "<Figure size 432x288 with 1 Axes>"
      ]
     },
     "metadata": {
      "needs_background": "light"
     },
     "output_type": "display_data"
    }
   ],
   "source": [
    "print(\"==============================================================================================\")\n",
    "print(\"ERRO DOS OUTO VALORES LINALG.EIGVALS X TRIANGULARIZAÇÃO QR VIA GRAM-SCHMIDT E MATRIZ DE HESSENBERG\")\n",
    "print(\"==============================================================================================\")\n",
    "\n",
    "\n",
    "X = np.sort(U_linalg)\n",
    "Y = np.sort(U_qrH)\n",
    "ERRO3 = []\n",
    "label = []\n",
    "for i in range(len(X)):\n",
    "  ERRO3.append(abs(X[i]-Y[i]))\n",
    "\n",
    "plt.plot(X,ERRO3)\n",
    "plt.xlabel('LINALG.EIGVALS u_i')\n",
    "plt.ylabel('ERRO ABSOLUTO GRAM-SCHMIDT E MATRIZ DE HESSENBERG')\n",
    "\n",
    "plt.show()\n",
    "\n",
    "plt.plot(Y,X)\n",
    "plt.xlabel('SOLUÇÃO')\n",
    "plt.ylabel('SOLUÇAO EXATA')\n",
    "plt.show()"
   ]
  },
  {
   "cell_type": "code",
   "execution_count": null,
   "id": "yvp9rYrmUlO0",
   "metadata": {
    "id": "yvp9rYrmUlO0"
   },
   "outputs": [],
   "source": [
    "\n",
    "\n",
    "\n"
   ]
  },
  {
   "cell_type": "code",
   "execution_count": 164,
   "id": "lueL_gUA520m",
   "metadata": {
    "id": "lueL_gUA520m"
   },
   "outputs": [],
   "source": [
    "# Conseguindo a real matriz de Hessenberg (H) pela forma Q^t * A * Q = H\n",
    "# Usando Householder para obter Q recursivamente. \n",
    "# Mais uma vez fazendo a oberação na sub matriz em A de interesse\n",
    "\n",
    "def hessenberg(A,m,n):\n",
    "\n",
    "  for k in range(n-1):\n",
    "    \n",
    "    x = A[k+1:,k]\n",
    "    x_t = []\n",
    "    x_t.append(x)\n",
    "    e = np.zeros(len(x))\n",
    "    e[0] = 1.\n",
    "    e1 = []\n",
    "    e1.append(e)\n",
    "    v = np.sign(x[0])*np.linalg.norm(np.transpose(x_t))*np.transpose(e1) + np.transpose(x_t)\n",
    "  \n",
    "    H = np.eye(len(A[k+1:,k:])) - (2.0*np.outer(v,v))/np.dot(np.transpose(v),v)\n",
    "\n",
    "    A[k+1:,k:] = np.dot(np.transpose(H),A[k+1:,k:])\n",
    "    A[k:,k+1:] = np.dot(A[k:,k+1:],H)\n",
    "\n",
    "\n"
   ]
  },
  {
   "cell_type": "code",
   "execution_count": 167,
   "id": "JQ3hAv2T09e6",
   "metadata": {
    "colab": {
     "base_uri": "https://localhost:8080/",
     "height": 1000
    },
    "id": "JQ3hAv2T09e6",
    "outputId": "286c803b-f69c-4d38-e1cc-add23eb75a1d"
   },
   "outputs": [
    {
     "name": "stdout",
     "output_type": "stream",
     "text": [
      "Hilbert\n",
      "[[1.         0.5        0.33333333 0.25       0.2        0.16666667\n",
      "  0.14285714 0.125      0.11111111 0.1       ]\n",
      " [0.5        0.33333333 0.25       0.2        0.16666667 0.14285714\n",
      "  0.125      0.11111111 0.1        0.09090909]\n",
      " [0.33333333 0.25       0.2        0.16666667 0.14285714 0.125\n",
      "  0.11111111 0.1        0.09090909 0.08333333]\n",
      " [0.25       0.2        0.16666667 0.14285714 0.125      0.11111111\n",
      "  0.1        0.09090909 0.08333333 0.07692308]\n",
      " [0.2        0.16666667 0.14285714 0.125      0.11111111 0.1\n",
      "  0.09090909 0.08333333 0.07692308 0.07142857]\n",
      " [0.16666667 0.14285714 0.125      0.11111111 0.1        0.09090909\n",
      "  0.08333333 0.07692308 0.07142857 0.06666667]\n",
      " [0.14285714 0.125      0.11111111 0.1        0.09090909 0.08333333\n",
      "  0.07692308 0.07142857 0.06666667 0.0625    ]\n",
      " [0.125      0.11111111 0.1        0.09090909 0.08333333 0.07692308\n",
      "  0.07142857 0.06666667 0.0625     0.05882353]\n",
      " [0.11111111 0.1        0.09090909 0.08333333 0.07692308 0.07142857\n",
      "  0.06666667 0.0625     0.05882353 0.05555556]\n",
      " [0.1        0.09090909 0.08333333 0.07692308 0.07142857 0.06666667\n",
      "  0.0625     0.05882353 0.05555556 0.05263158]]\n",
      "==============================================================================================\n",
      "========================== MATRIZ DE  HESSENBERG =============================================\n",
      "==============================================================================================\n",
      "\n",
      "[[ 1.00000000e+00 -7.41463237e-01  5.54836053e-17  5.31052470e-17\n",
      "   7.23040942e-17  4.85584844e-17  4.67080151e-17  3.86956878e-17\n",
      "   4.26071914e-17  5.26752882e-17]\n",
      " [-7.41463237e-01  9.96712973e-01  1.97578551e-01 -3.10325232e-17\n",
      "  -6.40391844e-17  3.76721981e-17 -1.89315776e-19  6.01205206e-18\n",
      "  -1.74241010e-17  1.77600094e-17]\n",
      " [ 5.54836053e-17  1.97578551e-01  1.28941259e-01 -1.37955644e-02\n",
      "   8.08801470e-18 -1.10619560e-17  6.16454442e-18  1.30287370e-17\n",
      "  -1.20235870e-17  1.16233312e-18]\n",
      " [ 5.31052470e-17 -1.89225368e-18 -1.37955644e-02  7.25629999e-03\n",
      "   7.32994494e-04 -1.20998875e-17  5.16963605e-19  7.18685633e-19\n",
      "  -9.00046486e-18 -3.29478077e-18]\n",
      " [ 7.23040942e-17  1.80117977e-18 -1.51921811e-19  7.32994494e-04\n",
      "   3.33098146e-04  3.00018958e-05  8.58177820e-19  1.80148279e-18\n",
      "   3.96628234e-18  1.67624925e-18]\n",
      " [ 4.85584844e-17 -1.08955418e-17  5.39007250e-19 -2.53027798e-20\n",
      "   3.00018958e-05  1.16035940e-05  8.97557614e-07 -4.13582808e-18\n",
      "   5.33343584e-18  4.02895337e-18]\n",
      " [ 4.67080151e-17 -8.85679215e-18  1.39405486e-18 -1.39802150e-20\n",
      "  -6.91408020e-22  8.97557614e-07  2.91647848e-07  1.87102981e-08\n",
      "   3.45329266e-19  1.05991346e-17]\n",
      " [ 3.86956878e-17 -7.89559277e-18  1.53619400e-18 -8.98383719e-21\n",
      "   4.31118590e-23 -1.65754960e-23  1.87102981e-08  4.97951612e-09\n",
      "   2.50036547e-10  1.44796192e-17]\n",
      " [ 4.26071914e-17 -3.62921798e-18  1.20367952e-18 -8.29657716e-21\n",
      "   4.12712269e-23 -4.79241971e-23  8.07430729e-25  2.50036556e-10\n",
      "   5.16674418e-11 -1.76185294e-12]\n",
      " [ 3.29597460e-17 -8.40372188e-18  2.89705660e-18  1.58035739e-20\n",
      "  -1.14328485e-21 -1.62513723e-23 -1.24539503e-24 -5.51809731e-27\n",
      "  -1.76184828e-12  2.45893533e-13]]\n",
      "u_ 0 = 1.7519196702651771\n",
      "u_ 1 = 0.34292954848350915\n",
      "u_ 2 = 0.0357418162716392\n",
      "u_ 3 = 0.0025308907686700057\n",
      "u_ 4 = 0.0001287496142763728\n",
      "u_ 5 = 4.7296892931880996e-06\n",
      "u_ 6 = 1.2289677387485114e-07\n",
      "u_ 7 = 2.147438824303477e-09\n",
      "u_ 8 = 2.2667453146101607e-11\n",
      "u_ 9 = 1.093278485753952e-13\n"
     ]
    },
    {
     "data": {
      "image/png": "[encoded data removed]",
      "text/plain": [
       "<Figure size 432x288 with 1 Axes>"
      ]
     },
     "metadata": {
      "needs_background": "light"
     },
     "output_type": "display_data"
    }
   ],
   "source": [
    "from matplotlib.font_manager import json_load\n",
    "H = hilbertMatrix(10)\n",
    "print(\"Hilbert\")\n",
    "print(H)\n",
    "\n",
    "print(\"==============================================================================================\")\n",
    "print(\"========================== MATRIZ DE  HESSENBERG =============================================\")\n",
    "print(\"==============================================================================================\")\n",
    "print()\n",
    "hessenberg(H,10,10)\n",
    "print(H)\n",
    "\n",
    "H_03 = metodo_QR(H)\n",
    "plt.spy(H_03, precision=1e-16)\n",
    "\n",
    "U_qrHT = []\n",
    "for i in range(10):\n",
    "  print(\"u_\",i,\"=\",H_03[i][i])\n",
    "  U_qrHT.append(H_03[i][i])\n",
    "\n",
    "\n"
   ]
  },
  {
   "cell_type": "code",
   "execution_count": 166,
   "id": "mwpUzwNyRD2c",
   "metadata": {
    "colab": {
     "base_uri": "https://localhost:8080/",
     "height": 600
    },
    "id": "mwpUzwNyRD2c",
    "outputId": "90298e98-d57a-4e2e-eac3-9b99cd5ed7f9"
   },
   "outputs": [
    {
     "data": {
      "image/png": "[encoded data removed]",
      "text/plain": [
       "<Figure size 432x288 with 1 Axes>"
      ]
     },
     "metadata": {
      "needs_background": "light"
     },
     "output_type": "display_data"
    },
    {
     "data": {
      "image/png": "[encoded data removed]",
      "text/plain": [
       "<Figure size 432x288 with 1 Axes>"
      ]
     },
     "metadata": {
      "needs_background": "light"
     },
     "output_type": "display_data"
    }
   ],
   "source": [
    "X = np.sort(U_linalg)\n",
    "Y = np.sort(U_qrHT)\n",
    "ERRO4 = []\n",
    "label = []\n",
    "for i in range(len(X)):\n",
    "  ERRO4.append(abs(X[i]-Y[i]))\n",
    "\n",
    "plt.plot(X,ERRO4)\n",
    "plt.xlabel('LINALG.EIGVALS u_i')\n",
    "plt.ylabel('ERRO ABSOLUTO GRAM-SCHMIDT E MATRIZ DE HESSENBERG')\n",
    "\n",
    "plt.show()\n",
    "\n",
    "plt.plot(Y,X)\n",
    "plt.xlabel('SOLUÇÃO')\n",
    "plt.ylabel('SOLUÇAO EXATA')\n",
    "plt.show()"
   ]
  },
  {
   "cell_type": "code",
   "execution_count": 169,
   "id": "ZBlFKPbRAZ1m",
   "metadata": {
    "colab": {
     "base_uri": "https://localhost:8080/",
     "height": 364
    },
    "id": "ZBlFKPbRAZ1m",
    "outputId": "73ab672b-0ce5-4f63-8803-b22d80501e44"
   },
   "outputs": [
    {
     "name": "stdout",
     "output_type": "stream",
     "text": [
      "==============================================================================================\n",
      "================================COMPARAÇÃO====================================================\n",
      "==============================================================================================\n"
     ]
    },
    {
     "data": {
      "text/plain": [
       "Text(0, 0.5, 'ERRO ABSOLUTO')"
      ]
     },
     "execution_count": 169,
     "metadata": {},
     "output_type": "execute_result"
    },
    {
     "data": {
      "image/png": "[encoded data removed]",
      "text/plain": [
       "<Figure size 432x288 with 1 Axes>"
      ]
     },
     "metadata": {
      "needs_background": "light"
     },
     "output_type": "display_data"
    }
   ],
   "source": [
    "print(\"==============================================================================================\")\n",
    "print(\"================================COMPARAÇÃO====================================================\")\n",
    "print(\"==============================================================================================\")\n",
    "\n",
    "\n",
    "plt.plot(X,ERRO1, label=\"householder\")\n",
    "plt.plot(X,ERRO2, label=\"Gram-Schmidt\")\n",
    "plt.plot(X,ERRO3, label=\"Gram-Schmidt(false_Hessenberg)\")\n",
    "plt.plot(X,ERRO4, label=\"Gram-Schmidt(Hessenberg)\")\n",
    "\n",
    "plt.title('Comparação')\n",
    "plt.legend()\n",
    "plt.xlabel('LINALG.EIGVALS')\n",
    "plt.ylabel('ERRO ABSOLUTO')\n"
   ]
  }
 ],
 "metadata": {
  "colab": {
   "provenance": []
  },
  "kernelspec": {
   "display_name": "Python 3 (ipykernel)",
   "language": "python",
   "name": "python3"
  },
  "language_info": {
   "codemirror_mode": {
    "name": "ipython",
    "version": 3
   },
   "file_extension": ".py",
   "mimetype": "text/x-python",
   "name": "python",
   "nbconvert_exporter": "python",
   "pygments_lexer": "ipython3",
   "version": "3.9.13"
  }
 },
 "nbformat": 4,
 "nbformat_minor": 5
}
